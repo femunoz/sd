{
  "nbformat": 4,
  "nbformat_minor": 0,
  "metadata": {
    "colab": {
      "provenance": [],
      "include_colab_link": true
    },
    "kernelspec": {
      "name": "python3",
      "display_name": "Python 3"
    },
    "language_info": {
      "name": "python"
    }
  },
  "cells": [
    {
      "cell_type": "markdown",
      "metadata": {
        "id": "view-in-github",
        "colab_type": "text"
      },
      "source": [
        "<a href=\"https://colab.research.google.com/github/femunoz/sd/blob/main/semana3/actividadRESTful.ipynb\" target=\"_parent\"><img src=\"https://colab.research.google.com/assets/colab-badge.svg\" alt=\"Open In Colab\"/></a>"
      ]
    },
    {
      "cell_type": "markdown",
      "source": [
        "### Guía de actividad Cliente-Servidor\n",
        "Esta actividad introduce el modelo cliente-servidor en el contexto de APIs web (RESTful), usando Python para simular un cliente que interactúa con un servidor remoto.\n",
        "\n",
        "#### Objetivo:\n",
        "\n",
        "Entender cómo un cliente envía peticiones HTTP, recibe respuestas en formato JSON y las procesa, mientras se contrasta con enfoques P2P (donde no hay un servidor central). La actividad se divide en fases para caber en ~30 minutos.\n",
        "\n",
        "#### Preparación (5 minutos)\n",
        "\n",
        "Usaremos **_Notebooks Interactivos de Python_** (extensión `ipynb`) y **_Google Colab_** para la actividad.\n",
        "\n",
        "1. Asegúrate de tener el módulo `requests` instalado en tu entorno de Google Colab. Abre un terminal.\n",
        "2. Al final de este notebook crea un bloque de código.\n",
        "\n",
        "#### Implementación del Código (15 minutos)\n",
        "Usaremos la API pública gratuita JSONPlaceholder (https://jsonplaceholder.typicode.com/), que simula datos como posts, usuarios, etc., sin necesidad de registro.\n",
        "\n",
        "Pasos detallados:\n",
        "1. Importa la biblioteca: En tu bloque de código, escribe:\n",
        "   ```python\n",
        "   import requests\n",
        "   import json  # Para formatear la salida opcionalmente\n",
        "   ```\n",
        "   \n",
        "2. Define la URL de la API: Por ejemplo, para obtener una lista de posts:\n",
        "   ```python\n",
        "   url = \"https://jsonplaceholder.typicode.com/posts\"\n",
        "   ```\n",
        "\n",
        "3. Envía una petición GET, de HTTP, usando `requests.get()` para consultar el servidor.\n",
        "   ```python\n",
        "   response = requests.get(url)\n",
        "   ```\n",
        "\n",
        "4. Verifica la respuesta: Comprueba si la petición fue exitosa (código 200).\n",
        "   ```python\n",
        "   if response.status_code == 200:\n",
        "       data = response.json()  # Convierte la respuesta a JSON\n",
        "       print(\"Datos recibidos:\")\n",
        "       print(json.dumps(data[:5], indent=4))  # Muestra los primeros 5 elementos para no saturar la salida\n",
        "   else:\n",
        "       print(f\"Error: {response.status_code}\")\n",
        "   ```\n",
        "\n",
        "5. Experimenta con variaciones: Modifica la URL para otros **endpoints**, como `/users` o `/posts/1` (un post específico). Agrega parámetros, e.g., `url = \"https://jsonplaceholder.typicode.com/posts?userId=1\"` para filtrar por usuario.\n",
        "\n",
        "6. Ejecuta el script presionando el ícono \"play\" en la sección superior de tu bloque de código. Observa la salida en consola.\n",
        "\n",
        "#### Experimentación y Discusión (10 minutos)\n",
        "- Prueba diferentes queries: Cambia la URL para endpoints como `/todos` (tareas) o agrega parámetros de consulta (e.g., `?id=1`).\n",
        "- Discute en grupo: ¿Cómo escala este modelo cliente-servidor (e.g., el servidor maneja muchas peticiones)? ¿En qué difiere de P2P (e.g., en P2P, los peers comparten carga, pero hay más complejidad en descubrimiento)? Considera pros/contras: Servidor central es simple pero punto de fallo único; P2P es distribuido pero requiere manejo de conexiones peer-to-peer.\n",
        "- Opcional: Maneja errores, como agregar try-except para conexiones fallidas.\n",
        "\n",
        "Si hay tiempo, extiende a una petición POST (crear datos), pero manténlo simple para no exceder el tiempo. Accede a [https://jsonplaceholder.typicode.com](https://jsonplaceholder.typicode.com) para más detalles de la API.\n",
        "\n",
        "### Entregables\n",
        "Al final de la actividad, cada estudiante o grupo (sugerido: parejas para discutir) debe entregar lo siguiente:\n",
        "\n",
        "1. **Enlace a su archivo `.ipynb`**: con el script completo y comentado (e.g., explicar cada sección con # comentarios). Incluye al menos 2-3 variaciones de queries en el código.\n",
        "2. **Capturas de Pantalla o Log de Salida**: Muestra la ejecución en consola (e.g., copia el output de al menos dos peticiones diferentes).\n",
        "3. **Informe Breve (1-2 párrafos)**: Describe qué aprendiste sobre el modelo cliente-servidor, un ejemplo de la respuesta JSON procesada, y una comparación corta con P2P (e.g., \"En cliente-servidor, el cliente depende del servidor para datos, mientras en P2P los peers se sirven mutuamente, reduciendo latencia en redes grandes pero aumentando complejidad\"). Utiliza bloques de texto de tu notebook para esto.\n",
        "4. **Demostración Opcional**: En clase, ejecuta el script en vivo y explica una query.\n",
        "\n",
        "Entrega vía email al profesor el enlace del punto 1. Esto permite evaluar comprensión práctica y teórica en ~5 minutos por estudiante.\n"
      ],
      "metadata": {
        "id": "hojC_gOt28qb"
      }
    },
    {
      "cell_type": "code",
      "execution_count": null,
      "metadata": {
        "id": "0jLhrSsR2ssL"
      },
      "outputs": [],
      "source": []
    }
  ]
}